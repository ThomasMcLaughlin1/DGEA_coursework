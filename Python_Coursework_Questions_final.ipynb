{
 "cells": [
  {
   "cell_type": "markdown",
   "id": "65903689",
   "metadata": {},
   "source": [
    "# Python Coursework Conversion"
   ]
  },
  {
   "cell_type": "markdown",
   "id": "e86a2082",
   "metadata": {},
   "source": [
    "This notebook contains the Python equivalent of the R tasks provided."
   ]
  },
  {
   "cell_type": "markdown",
   "id": "fffa755b",
   "metadata": {},
   "source": [
    "### Question 1\n",
    "Create a PANDAS DataFrame with 5 rows and 2 columns. One column should be names, the other should be an Age.\n",
    "\n",
    "Remember to import pandas to be able to use it:\n",
    "\n",
    "```python\n",
    "import pandas as pd\n",
    "```\n",
    "\n",
    "Print your dataframe in the notebook."
   ]
  },
  {
   "cell_type": "code",
   "execution_count": 1,
   "id": "f164fd91",
   "metadata": {},
   "outputs": [
    {
     "name": "stdout",
     "output_type": "stream",
     "text": [
      "   Name  Age\n",
      "0  Jack   20\n",
      "1   Sam   21\n",
      "2  Alex   22\n",
      "3   Tom   23\n",
      "4  Josh   24\n"
     ]
    }
   ],
   "source": [
    "import pandas as pd\n",
    "data = {'Name': ['Jack', 'Sam', 'Alex', 'Tom', 'Josh'], 'Age': [20, 21, 22, 23, 24]}\n",
    "df = pd.DataFrame(data)\n",
    "print(df)\n"
   ]
  },
  {
   "cell_type": "markdown",
   "id": "bb31f387",
   "metadata": {},
   "source": [
    "### Question 2\n",
    "Provide examples of the following data structures in python and print or access them as shown.\n",
    "\n",
    "A list of ints. - print the fourth value.\n",
    "\n",
    "A tuple - print the tuple\n",
    "\n",
    "A dictionary representing the four bases of DNA - print the total number of bases represented by your dictionary.\n",
    "\n",
    "A list of lists of floats. - print the third value in the sixth list.\n",
    "\n",
    "An array of floats -  print the first four items of the array\n",
    "\n",
    "A pandas dataframe - print the 9th row.\n"
   ]
  },
  {
   "cell_type": "code",
   "execution_count": 77,
   "id": "8aa4661c",
   "metadata": {},
   "outputs": [
    {
     "name": "stdout",
     "output_type": "stream",
     "text": [
      "4\n",
      "20\n",
      "C\n",
      "18.18\n",
      "[1.1, 2.2, 3.3, 4.4]\n"
     ]
    },
    {
     "data": {
      "text/html": [
       "<div>\n",
       "<style scoped>\n",
       "    .dataframe tbody tr th:only-of-type {\n",
       "        vertical-align: middle;\n",
       "    }\n",
       "\n",
       "    .dataframe tbody tr th {\n",
       "        vertical-align: top;\n",
       "    }\n",
       "\n",
       "    .dataframe thead th {\n",
       "        text-align: right;\n",
       "    }\n",
       "</style>\n",
       "<table border=\"1\" class=\"dataframe\">\n",
       "  <thead>\n",
       "    <tr style=\"text-align: right;\">\n",
       "      <th></th>\n",
       "      <th>PassengerId</th>\n",
       "      <th>Survived</th>\n",
       "      <th>Pclass</th>\n",
       "      <th>Name</th>\n",
       "      <th>Sex</th>\n",
       "      <th>Age</th>\n",
       "      <th>SibSp</th>\n",
       "      <th>Parch</th>\n",
       "      <th>Ticket</th>\n",
       "      <th>Fare</th>\n",
       "      <th>Cabin</th>\n",
       "      <th>Embarked</th>\n",
       "    </tr>\n",
       "  </thead>\n",
       "  <tbody>\n",
       "    <tr>\n",
       "      <th>8</th>\n",
       "      <td>9</td>\n",
       "      <td>1</td>\n",
       "      <td>3</td>\n",
       "      <td>Johnson, Mrs. Oscar W (Elisabeth Vilhelmina Berg)</td>\n",
       "      <td>female</td>\n",
       "      <td>27.0</td>\n",
       "      <td>0</td>\n",
       "      <td>2</td>\n",
       "      <td>347742</td>\n",
       "      <td>11.1333</td>\n",
       "      <td>NaN</td>\n",
       "      <td>S</td>\n",
       "    </tr>\n",
       "  </tbody>\n",
       "</table>\n",
       "</div>"
      ],
      "text/plain": [
       "   PassengerId  Survived  Pclass  \\\n",
       "8            9         1       3   \n",
       "\n",
       "                                                Name     Sex   Age  SibSp  \\\n",
       "8  Johnson, Mrs. Oscar W (Elisabeth Vilhelmina Berg)  female  27.0      0   \n",
       "\n",
       "   Parch  Ticket     Fare Cabin Embarked  \n",
       "8      2  347742  11.1333   NaN        S  "
      ]
     },
     "execution_count": 77,
     "metadata": {},
     "output_type": "execute_result"
    }
   ],
   "source": [
    "Numbers = [1, 2, 3, 4] #list of ints\n",
    "print(Numbers[3]) #print 4th value\n",
    "\n",
    "coordinates = (10, 20) #tuple\n",
    "print(coordinates[1]) #printing tuple\n",
    "\n",
    "Base_pairs = {\n",
    "    \"Adenine\": \"A\",\n",
    "    \"Cytosine\": \"C\",\n",
    "    \"Guanine\": \"G\",\n",
    "    \"Thymine\": \"T\"   \n",
    "}\n",
    "print(Base_pairs[\"Cytosine\"])\n",
    "\n",
    "list_of_lists_of_floats = [[1.1, 2.2, 3.3], [4.4, 5.5, 6.6], [7.7, 8.8, 9.9], [10.10, 11.11, 12.12], [13.13, 14.14, 15.15], [16.16, 17.17, 18.18]]\n",
    "print(list_of_lists_of_floats[5][2])\n",
    "\n",
    "array_of_floats = [1.1, 2.2, 3.3, 4.4, 5.5, 6.6]\n",
    "print(array_of_floats[0:4])\n",
    "\n",
    "import pandas as pd\n",
    "url = \"https://raw.githubusercontent.com/datasciencedojo/datasets/master/titanic.csv\"\n",
    "df = pd.read_csv(url)\n",
    "df.iloc[[8]]"
   ]
  },
  {
   "cell_type": "markdown",
   "id": "52e30ead",
   "metadata": {},
   "source": [
    "### Question 3\n",
    "\n",
    "Use three different methods to print the numbers 200 to 300."
   ]
  },
  {
   "cell_type": "code",
   "execution_count": 13,
   "id": "1c038f6a",
   "metadata": {},
   "outputs": [
    {
     "name": "stdout",
     "output_type": "stream",
     "text": [
      "200\n",
      "201\n",
      "202\n",
      "203\n",
      "204\n",
      "205\n",
      "206\n",
      "207\n",
      "208\n",
      "209\n",
      "210\n",
      "211\n",
      "212\n",
      "213\n",
      "214\n",
      "215\n",
      "216\n",
      "217\n",
      "218\n",
      "219\n",
      "220\n",
      "221\n",
      "222\n",
      "223\n",
      "224\n",
      "225\n",
      "226\n",
      "227\n",
      "228\n",
      "229\n",
      "230\n",
      "231\n",
      "232\n",
      "233\n",
      "234\n",
      "235\n",
      "236\n",
      "237\n",
      "238\n",
      "239\n",
      "240\n",
      "241\n",
      "242\n",
      "243\n",
      "244\n",
      "245\n",
      "246\n",
      "247\n",
      "248\n",
      "249\n",
      "250\n",
      "251\n",
      "252\n",
      "253\n",
      "254\n",
      "255\n",
      "256\n",
      "257\n",
      "258\n",
      "259\n",
      "260\n",
      "261\n",
      "262\n",
      "263\n",
      "264\n",
      "265\n",
      "266\n",
      "267\n",
      "268\n",
      "269\n",
      "270\n",
      "271\n",
      "272\n",
      "273\n",
      "274\n",
      "275\n",
      "276\n",
      "277\n",
      "278\n",
      "279\n",
      "280\n",
      "281\n",
      "282\n",
      "283\n",
      "284\n",
      "285\n",
      "286\n",
      "287\n",
      "288\n",
      "289\n",
      "290\n",
      "291\n",
      "292\n",
      "293\n",
      "294\n",
      "295\n",
      "296\n",
      "297\n",
      "298\n",
      "299\n",
      "300\n",
      "200\n",
      "201\n",
      "202\n",
      "203\n",
      "204\n",
      "205\n",
      "206\n",
      "207\n",
      "208\n",
      "209\n",
      "210\n",
      "211\n",
      "212\n",
      "213\n",
      "214\n",
      "215\n",
      "216\n",
      "217\n",
      "218\n",
      "219\n",
      "220\n",
      "221\n",
      "222\n",
      "223\n",
      "224\n",
      "225\n",
      "226\n",
      "227\n",
      "228\n",
      "229\n",
      "230\n",
      "231\n",
      "232\n",
      "233\n",
      "234\n",
      "235\n",
      "236\n",
      "237\n",
      "238\n",
      "239\n",
      "240\n",
      "241\n",
      "242\n",
      "243\n",
      "244\n",
      "245\n",
      "246\n",
      "247\n",
      "248\n",
      "249\n",
      "250\n",
      "251\n",
      "252\n",
      "253\n",
      "254\n",
      "255\n",
      "256\n",
      "257\n",
      "258\n",
      "259\n",
      "260\n",
      "261\n",
      "262\n",
      "263\n",
      "264\n",
      "265\n",
      "266\n",
      "267\n",
      "268\n",
      "269\n",
      "270\n",
      "271\n",
      "272\n",
      "273\n",
      "274\n",
      "275\n",
      "276\n",
      "277\n",
      "278\n",
      "279\n",
      "280\n",
      "281\n",
      "282\n",
      "283\n",
      "284\n",
      "285\n",
      "286\n",
      "287\n",
      "288\n",
      "289\n",
      "290\n",
      "291\n",
      "292\n",
      "293\n",
      "294\n",
      "295\n",
      "296\n",
      "297\n",
      "298\n",
      "299\n",
      "300\n",
      "[200, 201, 202, 203, 204, 205, 206, 207, 208, 209, 210, 211, 212, 213, 214, 215, 216, 217, 218, 219, 220, 221, 222, 223, 224, 225, 226, 227, 228, 229, 230, 231, 232, 233, 234, 235, 236, 237, 238, 239, 240, 241, 242, 243, 244, 245, 246, 247, 248, 249, 250, 251, 252, 253, 254, 255, 256, 257, 258, 259, 260, 261, 262, 263, 264, 265, 266, 267, 268, 269, 270, 271, 272, 273, 274, 275, 276, 277, 278, 279, 280, 281, 282, 283, 284, 285, 286, 287, 288, 289, 290, 291, 292, 293, 294, 295, 296, 297, 298, 299, 300]\n"
     ]
    }
   ],
   "source": [
    "for x in range(200,301):\n",
    "    print(x)\n",
    "\n",
    "i = 200\n",
    "while i <= 300:\n",
    "    print(i)\n",
    "    i += 1\n",
    "\n",
    "print(list(range(200,301)))\n",
    "\n"
   ]
  },
  {
   "cell_type": "markdown",
   "id": "60f369ff",
   "metadata": {},
   "source": [
    "### Question 4\n",
    "Add or replace the following elements in the list animals (you will need to run the cell below):\n",
    "\n",
    "1. Replace fish wish another animal of your choice.\n",
    "2. Add another animal of your choice to the end of the list.\n",
    "3. Replace octopus with another animal of your choice.\n",
    "\n",
    "Print the edited list. \n"
   ]
  },
  {
   "cell_type": "code",
   "execution_count": 16,
   "id": "0b3abbe4",
   "metadata": {},
   "outputs": [
    {
     "name": "stdout",
     "output_type": "stream",
     "text": [
      "['tiger', 'lion', 'badger', 'fox', 'rabbit', 'Cat', 'dog', 'shark', 'Cow']\n"
     ]
    }
   ],
   "source": [
    "# Replace elements in this list\n",
    "animals = [\"tiger\", \"lion\", \"badger\", \"fox\", \"rabbit\", \"Cat\", \"dog\", \"shark\", \"Cow\"]\n",
    "print(animals)"
   ]
  },
  {
   "cell_type": "code",
   "execution_count": null,
   "id": "b9a6deef-ab81-4eb0-933b-ea5387f18f0e",
   "metadata": {},
   "outputs": [],
   "source": []
  },
  {
   "cell_type": "markdown",
   "id": "a909ec97",
   "metadata": {},
   "source": [
    "### Question 5\n",
    "Using pandas, generate a scatterplot of mpg vs hp using the cars dataset. The data set is read in and assigned to a dataframe by running the cell below. Ensure you have imported all the libraries you need. "
   ]
  },
  {
   "cell_type": "code",
   "execution_count": 40,
   "id": "6d615bca-a1f8-4010-ad5d-e8d9acdfe9f1",
   "metadata": {},
   "outputs": [
    {
     "data": {
      "image/png": "[encoded data removed]",
      "text/plain": [
       "<Figure size 640x480 with 1 Axes>"
      ]
     },
     "metadata": {},
     "output_type": "display_data"
    }
   ],
   "source": [
    "mtcars = \"https://raw.githubusercontent.com/Apress/mastering-ml-w-python-in-six-steps/refs/heads/master/Chapter_2_Code/Data/mtcars.csv\"\n",
    "cars = pd.read_csv(mtcars)\n",
    "import matplotlib.pyplot as plt\n",
    "%matplotlib inline\n",
    "\n",
    "plt.scatter(cars['mpg'], cars['hp'],)\n",
    "plt.xlabel('miles per gallon (mpg)')\n",
    "plt.ylabel('horsepower (hp)')\n",
    "plt.title('mpg vs hp')\n",
    "plt.show()\n",
    "\n"
   ]
  },
  {
   "cell_type": "code",
   "execution_count": null,
   "id": "245f98df",
   "metadata": {},
   "outputs": [],
   "source": [
    "\n",
    "\n"
   ]
  },
  {
   "cell_type": "markdown",
   "id": "cf249a2f",
   "metadata": {},
   "source": [
    "### Question 6\n",
    "Using the startwars dataset imported below, identify the individuals with tallest height and lowest mass."
   ]
  },
  {
   "cell_type": "code",
   "execution_count": 85,
   "id": "e3327930",
   "metadata": {},
   "outputs": [
    {
     "data": {
      "text/plain": [
       "<bound method NDFrame.describe of                 name  height   mass   hair_color           skin_color  \\\n",
       "0     Luke Skywalker   172.0   77.0        blond                light   \n",
       "1              C-3PO   167.0   75.0          NaN                 gold   \n",
       "2              R2-D2    96.0   32.0          NaN  blue, silver, white   \n",
       "3        Darth Vader   202.0  136.0  sandy-blond                 pale   \n",
       "4   Leia Organa Solo   150.0   49.0   dark brown                light   \n",
       "..               ...     ...    ...          ...                  ...   \n",
       "82              Finn   178.0   73.0        black                 dark   \n",
       "83     Rey Skywalker   170.0   54.0        brown                light   \n",
       "84       Poe Dameron   172.0   80.0   dark brown                  tan   \n",
       "85              BB-8    67.0   18.0         none        white, orange   \n",
       "86    Captain Phasma   200.0   76.0         gold                light   \n",
       "\n",
       "   eye_color  birth_year birth_era  birth_place  death_year  ...  \\\n",
       "0       blue        19.0       BBY  Polis Massa        34.0  ...   \n",
       "1     yellow       112.0       BBY         Affa         3.0  ...   \n",
       "2        red        33.0       BBY          NaN        20.0  ...   \n",
       "3     yellow        41.0       BBY     Tatooine         4.0  ...   \n",
       "4      brown        19.0       BBY  Polis Massa        35.0  ...   \n",
       "..       ...         ...       ...          ...         ...  ...   \n",
       "82     brown        11.0       ABY          NaN         NaN  ...   \n",
       "83     hazel        15.0       ABY    Hyperkarn        35.0  ...   \n",
       "84     brown         2.0       ABY      Yavin 4         NaN  ...   \n",
       "85       red        29.0       ABY          NaN         NaN  ...   \n",
       "86      blue         6.0       ABY    Parnassos        34.0  ...   \n",
       "\n",
       "        homeworld species                     occupation  \\\n",
       "0        Tatooine   Human                    Jedi Master   \n",
       "1        Tatooine   Droid                 Protocol droid   \n",
       "2           Naboo   Droid                Astromech droid   \n",
       "3        Tatooine   Human          Dark Lord of the Sith   \n",
       "4        Alderaan   Human           Princess of Alderaan   \n",
       "..            ...     ...                            ...   \n",
       "82            NaN   Human  General in the Rebel Alliance   \n",
       "83          Jakku   Human                           Jedi   \n",
       "84        Yavin 4   Human  General in the Rebel Alliance   \n",
       "85  Hosnian Prime   Droid                Astromech droid   \n",
       "86      Parnassos   Human         Stormtrooper commander   \n",
       "\n",
       "                                      cybernetics  \\\n",
       "0                           Prosthetic right hand   \n",
       "1                                             NaN   \n",
       "2                                             NaN   \n",
       "3   Prosthetic arms and legs, life-support system   \n",
       "4                                             NaN   \n",
       "..                                            ...   \n",
       "82                                            NaN   \n",
       "83                                            NaN   \n",
       "84                                            NaN   \n",
       "85                                            NaN   \n",
       "86                                            NaN   \n",
       "\n",
       "                                            abilities  \\\n",
       "0   Lightsaber abilities, Force powers, Other abil...   \n",
       "1                        Language known, Other skills   \n",
       "2                                                 NaN   \n",
       "3   Lightsaber abilities, Force powers, Language k...   \n",
       "4        Jedi training, Force powers, Other abilities   \n",
       "..                                                ...   \n",
       "82                                                NaN   \n",
       "83  Lightsaber abilities, Force powers, Force ligh...   \n",
       "84                                           Piloting   \n",
       "85                                                NaN   \n",
       "86                                           Shooting   \n",
       "\n",
       "                                            equipment  \\\n",
       "0                               Lightsabers, Blasters   \n",
       "1                                                 NaN   \n",
       "2   Buzz saw, Electric pike, Drinks tray, Fusion w...   \n",
       "3                               Clothing, Lightsabers   \n",
       "4   Defender sporting blaster pistol, X-30 Lancer ...   \n",
       "..                                                ...   \n",
       "82                                                NaN   \n",
       "83  Hellhound two, Vehicles, Tools and wapons, Lig...   \n",
       "84                                           Clothing   \n",
       "85  Grappling spike launcher, Welding torch, Holop...   \n",
       "86  Rust-read war mask, Armor coated, Weapons, Bla...   \n",
       "\n",
       "                                                films  \\\n",
       "0   A New Hope, The Empire Strikes Back, Return of...   \n",
       "1   A New Hope, The Empire Strikes Back, Return of...   \n",
       "2   A New Hope, The Empire Strikes Back, Return of...   \n",
       "3   A New Hope, The Empire Strikes Back, Return of...   \n",
       "4   A New Hope, The Empire Strikes Back, Return of...   \n",
       "..                                                ...   \n",
       "82                                  The Force Awakens   \n",
       "83                                  The Force Awakens   \n",
       "84                                  The Force Awakens   \n",
       "85                                  The Force Awakens   \n",
       "86                                  The Force Awakens   \n",
       "\n",
       "                              vehicles                 starships  \\\n",
       "0   Snowspeeder, Imperial Speeder Bike  X-wing, Imperial shuttle   \n",
       "1                                  NaN                       NaN   \n",
       "2                                  NaN                       NaN   \n",
       "3                                  NaN           TIE Advanced x1   \n",
       "4                Imperial Speeder Bike                       NaN   \n",
       "..                                 ...                       ...   \n",
       "82                                 NaN                       NaN   \n",
       "83                                 NaN                       NaN   \n",
       "84                                 NaN                    X-wing   \n",
       "85                                 NaN                       NaN   \n",
       "86                                 NaN                       NaN   \n",
       "\n",
       "                                                photo  \n",
       "0   https://static.wikia.nocookie.net/starwars/ima...  \n",
       "1   https://static.wikia.nocookie.net/starwars/ima...  \n",
       "2   https://static.wikia.nocookie.net/starwars/ima...  \n",
       "3   https://static.wikia.nocookie.net/starwars/ima...  \n",
       "4   https://static.wikia.nocookie.net/starwars/ima...  \n",
       "..                                                ...  \n",
       "82  https://static.wikia.nocookie.net/starwars/ima...  \n",
       "83  https://static.wikia.nocookie.net/starwars/ima...  \n",
       "84  https://static.wikia.nocookie.net/starwars/ima...  \n",
       "85  https://static.wikia.nocookie.net/starwars/ima...  \n",
       "86  https://static.wikia.nocookie.net/starwars/ima...  \n",
       "\n",
       "[87 rows x 25 columns]>"
      ]
     },
     "execution_count": 85,
     "metadata": {},
     "output_type": "execute_result"
    }
   ],
   "source": [
    "starwars_dataset=\"https://www.fabricionarcizo.com/post/starwars/updated_starwars.csv\"\n",
    "starwars = pd.read_csv(starwars_dataset)\n",
    "import pandas as pd \n",
    "import numpy as np\n",
    "starwars.describe"
   ]
  },
  {
   "cell_type": "code",
   "execution_count": 84,
   "id": "3aa2838f-ad05-48a0-b14d-2dc0b18be1fe",
   "metadata": {},
   "outputs": [
    {
     "name": "stdout",
     "output_type": "stream",
     "text": [
      "           name  height  mass hair_color   skin_color eye_color  birth_year  \\\n",
      "55  Yarael Poof   264.0   NaN       none  pasty white       red         NaN   \n",
      "\n",
      "   birth_era birth_place  death_year  ... homeworld   species  \\\n",
      "55       NaN         NaN        27.0  ...   Quermia  Quermian   \n",
      "\n",
      "                  occupation cybernetics                           abilities  \\\n",
      "55  Jedi High Council member         NaN  Lightsaber abilities, Force powers   \n",
      "\n",
      "      equipment               films vehicles starships  \\\n",
      "55  Lightsabers  The Phantom Menace      NaN       NaN   \n",
      "\n",
      "                                                photo  \n",
      "55  https://static.wikia.nocookie.net/starwars/ima...  \n",
      "\n",
      "[1 rows x 25 columns]\n"
     ]
    }
   ],
   "source": [
    "tallest_height = starwars[\"height\"].max() #finding max height \n",
    "tallest_height_character = starwars[starwars[\"height\"] ==tallest_height]\n",
    "print(tallest_height_character)\n"
   ]
  },
  {
   "cell_type": "code",
   "execution_count": 83,
   "id": "00f667fe-38f2-4478-bf9f-a47301f108c7",
   "metadata": {},
   "outputs": [
    {
     "name": "stdout",
     "output_type": "stream",
     "text": [
      "             name  height  mass hair_color skin_color eye_color  birth_year  \\\n",
      "45  Ratts Tyerell    79.0  15.0       none       blue     black         NaN   \n",
      "\n",
      "   birth_era birth_place  death_year  ...    homeworld species  \\\n",
      "45       NaN         NaN        32.0  ...  Aleen Minor  Aleena   \n",
      "\n",
      "        occupation cybernetics         abilities equipment  \\\n",
      "45  Podracer pilot         NaN  Piloting, Racing   Googles   \n",
      "\n",
      "                 films vehicles starships  \\\n",
      "45  The Phantom Menace      NaN       NaN   \n",
      "\n",
      "                                                photo  \n",
      "45  https://static.wikia.nocookie.net/starwars/ima...  \n",
      "\n",
      "[1 rows x 25 columns]\n"
     ]
    }
   ],
   "source": [
    "lowest_mass = starwars[\"mass\"].min() #finding smallest mass\n",
    "lowest_mass_character = starwars[starwars[\"mass\"] ==lowest_mass]\n",
    "print(lowest_mass_character)\n"
   ]
  },
  {
   "cell_type": "markdown",
   "id": "95fa55ae-21d3-4156-ace8-e65b96b7226e",
   "metadata": {},
   "source": [
    "### Question 7\n",
    "Analyze the life expectancy dataset (which can be loaded by running the cell below).\n",
    "\n",
    "Calculate the number of unique countries in the dataset.\n",
    "\n",
    "Calculate the country and year with the highest life expectancy.\n",
    "\n",
    "Calculate the year with the highest total expenditure.\n",
    "\n",
    "Provide your code using pandas.\n"
   ]
  },
  {
   "cell_type": "code",
   "execution_count": 3,
   "id": "c2961279-cbcc-4247-bfa3-63fc06988186",
   "metadata": {},
   "outputs": [],
   "source": [
    "import seaborn as sns\n",
    "life_expectancy = sns.load_dataset('healthexp')\n",
    "import pandas as pd "
   ]
  },
  {
   "cell_type": "code",
   "execution_count": 41,
   "id": "93b6c9a4",
   "metadata": {},
   "outputs": [
    {
     "name": "stdout",
     "output_type": "stream",
     "text": [
      "     Year Country  Spending_USD  Life_Expectancy\n",
      "272  2020   Japan      4665.641             84.7\n",
      "     Year Country  Spending_USD  Life_Expectancy\n",
      "273  2020     USA     11859.179             77.0\n"
     ]
    }
   ],
   "source": [
    "#number of unique countries \n",
    "life_expectancy.head()\n",
    "life_expectancy['Country'].unique() \n",
    "# country and year with highest life exp\n",
    "highest_life_exp = life_expectancy['Life_Expectancy'].max()\n",
    "highest_life_expCY = life_expectancy[life_expectancy['Life_Expectancy'] ==highest_life_exp]\n",
    "print(highest_life_expCY)\n",
    "#year wih highest total expenditure \n",
    "highest_expen = life_expectancy['Spending_USD'].max()\n",
    "highest_expen_yr = life_expectancy[life_expectancy['Spending_USD'] ==highest_expen]\n",
    "print(highest_expen_yr)\n",
    "\n",
    " \n"
   ]
  },
  {
   "cell_type": "markdown",
   "id": "bc1d87d4",
   "metadata": {},
   "source": [
    "### Question 8\n",
    "Using the diamonds dataset and the plotting code of your choice, plot the following from the diamonds dataset.\n",
    "\n",
    "1. Carat vs Price in a scatter plot.\n",
    "2. A histogram of prices.\n",
    "3. A boxplot of cut vs price.\n",
    "\n",
    "The code can be loaded from seaborn in the cell below."
   ]
  },
  {
   "cell_type": "code",
   "execution_count": 42,
   "id": "0cf57f04-3fa2-470f-906a-d15180943d5f",
   "metadata": {},
   "outputs": [],
   "source": [
    "diamonds = sns.load_dataset('diamonds')"
   ]
  },
  {
   "cell_type": "code",
   "execution_count": 56,
   "id": "0e7638b1",
   "metadata": {},
   "outputs": [
    {
     "data": {
      "image/png": "[encoded data removed]",
      "text/plain": [
       "<Figure size 640x480 with 1 Axes>"
      ]
     },
     "metadata": {},
     "output_type": "display_data"
    },
    {
     "data": {
      "image/png": "[encoded data removed]",
      "text/plain": [
       "<Figure size 640x480 with 1 Axes>"
      ]
     },
     "metadata": {},
     "output_type": "display_data"
    },
    {
     "data": {
      "image/png": "[encoded data removed]",
      "text/plain": [
       "<Figure size 640x480 with 1 Axes>"
      ]
     },
     "metadata": {},
     "output_type": "display_data"
    }
   ],
   "source": [
    "import matplotlib.pyplot as plt\n",
    "%matplotlib inline  \n",
    "#scatter plot of carat vs price \n",
    "plt.scatter(diamonds['carat'], diamonds['price'], color='black')\n",
    "plt.xlabel('carat')\n",
    "plt.ylabel('price')\n",
    "plt.title('carat vs. price')\n",
    "plt.show()\n",
    "#histogram of prices\n",
    "plt.hist(diamonds['price'], bins=20, color='blue')\n",
    "plt.xlabel('price')\n",
    "plt.ylabel('Frequency')\n",
    "plt.title('Histogram of prices')\n",
    "plt.show()\n",
    "#boxplot of cut vs price \n",
    "import seaborn as sns\n",
    "sns.set(style='whitegrid')\n",
    "\n",
    "sns.boxplot(x='cut', y='price', data=diamonds)\n",
    "plt.title('cut by price')\n",
    "plt.show()\n"
   ]
  },
  {
   "cell_type": "markdown",
   "id": "ff76cc7d",
   "metadata": {},
   "source": [
    "### Question 9\n",
    "\n",
    "Using the same dataset, identify the max and min price in diamonds dataset."
   ]
  },
  {
   "cell_type": "code",
   "execution_count": 60,
   "id": "99b1d89e",
   "metadata": {},
   "outputs": [
    {
     "name": "stdout",
     "output_type": "stream",
     "text": [
      "18823\n",
      "326\n"
     ]
    }
   ],
   "source": [
    "max_price = diamonds['price'].max()\n",
    "print(max_price)\n",
    "min_price = diamonds['price'].min()\n",
    "print(min_price)\n",
    "def Find_heaviest_diamond():\n",
    "    diamonds['carat'] = diamonds['carat'].multiply(0.2)\n",
    "    heaviest_diamond = diamonds['carat'].max()\n",
    "    return heaviest_diamond\n",
    "\n",
    "Find_heaviest_diamond("
   ]
  },
  {
   "cell_type": "markdown",
   "id": "f36f35b2",
   "metadata": {},
   "source": [
    "### Question 10\n",
    "Write a function that will convert carat to grams and find the heaviest diamond.\n",
    "\n",
    "1 carat = 0.2 grams"
   ]
  },
  {
   "cell_type": "code",
   "execution_count": 105,
   "id": "68c11dfb",
   "metadata": {},
   "outputs": [
    {
     "data": {
      "text/plain": [
       "np.float64(1.002)"
      ]
     },
     "execution_count": 105,
     "metadata": {},
     "output_type": "execute_result"
    }
   ],
   "source": [
    "import pandas as pd \n",
    "import numpy as np\n",
    "diamonds = sns.load_dataset('diamonds')\n",
    "diamonds.head()\n",
    "\n",
    "def Find_heaviest_diamond():\n",
    "    diamonds['carat'] = diamonds['carat'].multiply(0.2)\n",
    "    heaviest_diamond = diamonds['carat'].max()\n",
    "    return heaviest_diamond\n",
    "\n",
    "Find_heaviest_diamond()\n"
   ]
  }
 ],
 "metadata": {
  "kernelspec": {
   "display_name": "Python 3 (ipykernel)",
   "language": "python",
   "name": "python3"
  },
  "language_info": {
   "codemirror_mode": {
    "name": "ipython",
    "version": 3
   },
   "file_extension": ".py",
   "mimetype": "text/x-python",
   "name": "python",
   "nbconvert_exporter": "python",
   "pygments_lexer": "ipython3",
   "version": "3.12.5"
  }
 },
 "nbformat": 4,
 "nbformat_minor": 5
}
